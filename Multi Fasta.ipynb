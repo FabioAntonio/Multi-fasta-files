{
 "cells": [
  {
   "cell_type": "markdown",
   "id": "f4c6a823",
   "metadata": {},
   "source": [
    "# Projeto para leitura de Multi Fasta"
   ]
  },
  {
   "cell_type": "markdown",
   "id": "e92c9027",
   "metadata": {},
   "source": [
    "Importação das Bibliotecas"
   ]
  },
  {
   "cell_type": "code",
   "execution_count": 3,
   "id": "474362de",
   "metadata": {},
   "outputs": [],
   "source": [
    "from Bio import SeqIO\n",
    "from Bio.Seq import Seq\n",
    "from Bio.SeqRecord import SeqRecord\n",
    "import glob"
   ]
  },
  {
   "cell_type": "markdown",
   "id": "04b0341f",
   "metadata": {},
   "source": [
    "Abertura teste dos arquivos"
   ]
  },
  {
   "cell_type": "code",
   "execution_count": 4,
   "id": "d0e73b9b",
   "metadata": {},
   "outputs": [
    {
     "name": "stdout",
     "output_type": "stream",
     "text": [
      "cds_from_genomic.fna\n",
      "cds_from_genomic_2.fna\n"
     ]
    }
   ],
   "source": [
    "for file in glob.glob(\"*.fna\"):\n",
    "    print(file)"
   ]
  },
  {
   "cell_type": "code",
   "execution_count": 6,
   "id": "fdcaa960",
   "metadata": {},
   "outputs": [],
   "source": [
    "for file in glob.glob(\"*.fna\"):\n",
    "\n",
    "    out = open(file.replace(\".fna\", \"_OUT.fasta\"), 'w')\n",
    "\n",
    "    for seq_record in SeqIO.parse(\"cds_from_genomic.fna\", \"fasta\"):\n",
    "        if 'pseudo=true' in seq_record.description:\n",
    "\n",
    "            myseq = seq_record.seq\n",
    "            gene = SeqRecord(myseq, id=seq_record.id, description=seq_record.description)\n",
    "\n",
    "            SeqIO.write(gene, out, \"fasta\")\n",
    "\n",
    "    out.close()"
   ]
  },
  {
   "cell_type": "code",
   "execution_count": null,
   "id": "6b71afc8",
   "metadata": {},
   "outputs": [],
   "source": []
  }
 ],
 "metadata": {
  "kernelspec": {
   "display_name": "Python 3 (ipykernel)",
   "language": "python",
   "name": "python3"
  },
  "language_info": {
   "codemirror_mode": {
    "name": "ipython",
    "version": 3
   },
   "file_extension": ".py",
   "mimetype": "text/x-python",
   "name": "python",
   "nbconvert_exporter": "python",
   "pygments_lexer": "ipython3",
   "version": "3.10.9"
  }
 },
 "nbformat": 4,
 "nbformat_minor": 5
}
