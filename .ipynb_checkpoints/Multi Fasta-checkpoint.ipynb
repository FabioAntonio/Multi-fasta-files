{
 "cells": [
  {
   "cell_type": "markdown",
   "id": "42d5f3bb",
   "metadata": {},
   "source": [
    "# Projeto para leitura de Multi Fasta"
   ]
  },
  {
   "cell_type": "markdown",
   "id": "a0547b1c",
   "metadata": {},
   "source": [
    "Importação das Bibliotecas"
   ]
  },
  {
   "cell_type": "code",
   "execution_count": 3,
   "id": "24dff10f",
   "metadata": {},
   "outputs": [],
   "source": [
    "from Bio import SeqIO\n",
    "from Bio.Seq import Seq\n",
    "from Bio.SeqRecord import SeqRecord\n",
    "import glob"
   ]
  },
  {
   "cell_type": "markdown",
   "id": "622da854",
   "metadata": {},
   "source": [
    "Abertura teste dos arquivos"
   ]
  },
  {
   "cell_type": "code",
   "execution_count": 4,
   "id": "e2ec3164",
   "metadata": {},
   "outputs": [
    {
     "name": "stdout",
     "output_type": "stream",
     "text": [
      "cds_from_genomic.fna\n",
      "cds_from_genomic_2.fna\n"
     ]
    }
   ],
   "source": [
    "for file in glob.glob(\"*.fna\"):\n",
    "    print(file)"
   ]
  },
  {
   "cell_type": "markdown",
   "id": "ba4ce38c",
   "metadata": {},
   "source": [
    "Iterando sobre os arquivos Fasta"
   ]
  },
  {
   "cell_type": "code",
   "execution_count": 6,
   "id": "dbb14bb8",
   "metadata": {},
   "outputs": [],
   "source": [
    "for file in glob.glob(\"*.fna\"):\n",
    "\n",
    "    out = open(file.replace(\".fna\", \"_OUT.fasta\"), 'w')\n",
    "\n",
    "    for seq_record in SeqIO.parse(\"cds_from_genomic.fna\", \"fasta\"):\n",
    "        if 'pseudo=true' in seq_record.description:\n",
    "\n",
    "            myseq = seq_record.seq\n",
    "            gene = SeqRecord(myseq, id=seq_record.id, description=seq_record.description)\n",
    "\n",
    "            SeqIO.write(gene, out, \"fasta\")\n",
    "\n",
    "    out.close()"
   ]
  },
  {
   "cell_type": "code",
   "execution_count": null,
   "id": "52003d0f",
   "metadata": {},
   "outputs": [],
   "source": []
  }
 ],
 "metadata": {
  "kernelspec": {
   "display_name": "Python 3 (ipykernel)",
   "language": "python",
   "name": "python3"
  },
  "language_info": {
   "codemirror_mode": {
    "name": "ipython",
    "version": 3
   },
   "file_extension": ".py",
   "mimetype": "text/x-python",
   "name": "python",
   "nbconvert_exporter": "python",
   "pygments_lexer": "ipython3",
   "version": "3.10.9"
  }
 },
 "nbformat": 4,
 "nbformat_minor": 5
}
